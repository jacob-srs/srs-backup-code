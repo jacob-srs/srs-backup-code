{
 "cells": [
  {
   "cell_type": "code",
   "execution_count": 4,
   "metadata": {},
   "outputs": [
    {
     "output_type": "stream",
     "name": "stdout",
     "text": "a 1\nb 2\nc 3\nyes\ndict_keys(['a', 'b', 'c'])\n['a', 'b', 'c']\nTrue\n"
    }
   ],
   "source": [
    "dic = {\"a\": 1, \"b\": 2 , \"c\": 3}\n",
    "for key, value in dic.items():\n",
    "    print(key, value)\n",
    "\n",
    "if \"a\" in [key for key in dic.keys()]:\n",
    "    print(\"yes\")\n",
    "\n",
    "print(dic.keys())\n",
    "print([key for key in dic.keys()])\n",
    "print(\"a\" in dic.keys())"
   ]
  },
  {
   "cell_type": "code",
   "execution_count": 3,
   "metadata": {},
   "outputs": [
    {
     "output_type": "stream",
     "name": "stdout",
     "text": "2.8281235\n"
    }
   ],
   "source": [
    "import time\n",
    "\n",
    "start = time.perf_counter()\n",
    "\n",
    "for x in range(10000):\n",
    "    x = x + 1\n",
    "\n",
    "end = time.process_time()\n",
    "total = end - start\n",
    "print(total)"
   ]
  },
  {
   "cell_type": "code",
   "execution_count": 12,
   "metadata": {},
   "outputs": [
    {
     "output_type": "error",
     "ename": "KeyboardInterrupt",
     "evalue": "",
     "traceback": [
      "\u001b[1;31m---------------------------------------------------------------------------\u001b[0m",
      "\u001b[1;31mKeyboardInterrupt\u001b[0m                         Traceback (most recent call last)",
      "\u001b[1;32m<ipython-input-12-6a8bee65668a>\u001b[0m in \u001b[0;36m<module>\u001b[1;34m\u001b[0m\n\u001b[0;32m    103\u001b[0m \u001b[1;33m\u001b[0m\u001b[0m\n\u001b[0;32m    104\u001b[0m     \u001b[1;32mwhile\u001b[0m \u001b[0mic\u001b[0m\u001b[1;33m.\u001b[0m\u001b[0mstart_camera\u001b[0m\u001b[1;33m(\u001b[0m\u001b[1;33m)\u001b[0m\u001b[1;33m:\u001b[0m\u001b[1;33m\u001b[0m\u001b[1;33m\u001b[0m\u001b[0m\n\u001b[1;32m--> 105\u001b[1;33m         \u001b[0mframe\u001b[0m\u001b[1;33m,\u001b[0m \u001b[0mframe_left\u001b[0m\u001b[1;33m,\u001b[0m \u001b[0mframe_right\u001b[0m \u001b[1;33m=\u001b[0m \u001b[0mic\u001b[0m\u001b[1;33m.\u001b[0m\u001b[0mget_frame\u001b[0m\u001b[1;33m(\u001b[0m\u001b[1;34m\"true\"\u001b[0m\u001b[1;33m,\u001b[0m \u001b[1;36m3\u001b[0m\u001b[1;33m)\u001b[0m\u001b[1;33m\u001b[0m\u001b[1;33m\u001b[0m\u001b[0m\n\u001b[0m\u001b[0;32m    106\u001b[0m         \u001b[0mcv\u001b[0m\u001b[1;33m.\u001b[0m\u001b[0mimshow\u001b[0m\u001b[1;33m(\u001b[0m\u001b[1;34m\"frame\"\u001b[0m\u001b[1;33m,\u001b[0m \u001b[0mframe\u001b[0m\u001b[1;33m)\u001b[0m\u001b[1;33m\u001b[0m\u001b[1;33m\u001b[0m\u001b[0m\n\u001b[0;32m    107\u001b[0m         \u001b[0mcv\u001b[0m\u001b[1;33m.\u001b[0m\u001b[0mimshow\u001b[0m\u001b[1;33m(\u001b[0m\u001b[1;34m\"frame_left\"\u001b[0m\u001b[1;33m,\u001b[0m \u001b[0mframe_left\u001b[0m\u001b[1;33m)\u001b[0m\u001b[1;33m\u001b[0m\u001b[1;33m\u001b[0m\u001b[0m\n",
      "\u001b[1;32m<ipython-input-12-6a8bee65668a>\u001b[0m in \u001b[0;36mget_frame\u001b[1;34m(self, enable_line, line_num)\u001b[0m\n\u001b[0;32m     58\u001b[0m \u001b[1;33m\u001b[0m\u001b[0m\n\u001b[0;32m     59\u001b[0m     \u001b[1;32mdef\u001b[0m \u001b[0mget_frame\u001b[0m\u001b[1;33m(\u001b[0m\u001b[0mself\u001b[0m\u001b[1;33m,\u001b[0m \u001b[0menable_line\u001b[0m\u001b[1;33m=\u001b[0m\u001b[1;34m\"\"\u001b[0m\u001b[1;33m,\u001b[0m \u001b[0mline_num\u001b[0m\u001b[1;33m=\u001b[0m\u001b[1;36m3\u001b[0m\u001b[1;33m)\u001b[0m\u001b[1;33m:\u001b[0m\u001b[1;33m\u001b[0m\u001b[1;33m\u001b[0m\u001b[0m\n\u001b[1;32m---> 60\u001b[1;33m         \u001b[0mret\u001b[0m\u001b[1;33m,\u001b[0m \u001b[0mframe\u001b[0m \u001b[1;33m=\u001b[0m \u001b[0mself\u001b[0m\u001b[1;33m.\u001b[0m\u001b[0mcap\u001b[0m\u001b[1;33m.\u001b[0m\u001b[0mread\u001b[0m\u001b[1;33m(\u001b[0m\u001b[1;33m)\u001b[0m\u001b[1;33m\u001b[0m\u001b[1;33m\u001b[0m\u001b[0m\n\u001b[0m\u001b[0;32m     61\u001b[0m         \u001b[1;32mif\u001b[0m \u001b[1;32mnot\u001b[0m \u001b[0mret\u001b[0m\u001b[1;33m:\u001b[0m\u001b[1;33m\u001b[0m\u001b[1;33m\u001b[0m\u001b[0m\n\u001b[0;32m     62\u001b[0m             \u001b[0mprint\u001b[0m\u001b[1;33m(\u001b[0m\u001b[1;34m\"..error_1...frame not grabbed\"\u001b[0m\u001b[1;33m)\u001b[0m\u001b[1;33m\u001b[0m\u001b[1;33m\u001b[0m\u001b[0m\n",
      "\u001b[1;31mKeyboardInterrupt\u001b[0m: "
     ]
    }
   ],
   "source": [
    "import os\n",
    "import sys\n",
    "import time\n",
    "\n",
    "import numpy as np\n",
    "import cv2 as cv\n",
    "\n",
    "\n",
    "class IntegratedCamera:\n",
    "    def __init__(self):\n",
    "        self.cap = cv.VideoCapture(0)\n",
    "        self.cap_open_flag = False\n",
    "        self.camera_properity_dic = {\n",
    "            \"prop_position\":cv.CAP_PROP_POS_MSEC,\n",
    "            \"prop_width\":cv.CAP_PROP_FRAME_WIDTH,\n",
    "            \"prop_height\":cv.CAP_PROP_FRAME_HEIGHT,\n",
    "            \"prop_fps\":cv.CAP_PROP_FPS,\n",
    "            \"prop_fourcc\":cv.CAP_PROP_FOURCC,\n",
    "            \"prop_format\":cv.CAP_PROP_FORMAT,\n",
    "            \"prop_capture_mode\":cv.CAP_PROP_MODE,\n",
    "            \"prop_brightness\":cv.CAP_PROP_BRIGHTNESS,\n",
    "            \"prop_contrast\":cv.CAP_PROP_CONTRAST,\n",
    "            \"prop_saturation\":cv.CAP_PROP_SATURATION,\n",
    "            \"prop_hue\":cv.CAP_PROP_HUE,\n",
    "            \"prop_gain\":cv.CAP_PROP_GAIN,\n",
    "            \"prop_exposure\":cv.CAP_PROP_EXPOSURE,\n",
    "            \"prop_bool_auto_exposure\":cv.CAP_PROP_AUTO_EXPOSURE,\n",
    "            \"prop_gamma\":cv.CAP_PROP_GAMMA,\n",
    "            \"prop_sample_aspect_ratio\":cv.CAP_PROP_SAR_NUM,\n",
    "            \"prop_bool_auto_white_balance\":cv.CAP_PROP_AUTO_WB,\n",
    "            \"prop_white_balance_temperature\":cv.CAP_PROP_WB_TEMPERATURE,\n",
    "        }\n",
    "\n",
    "\n",
    "    def get_camera_properity(self, input_properity):\n",
    "        if input_properity not in [key for key in self.camera_properity_dic.keys()]:\n",
    "            print(\"..Error_0...properity not found\")\n",
    "            return  # 结束函数\n",
    "        else:\n",
    "            return self.cap.get(input_properity)\n",
    "\n",
    "    def set_camera_properity(self, input_properity):\n",
    "        pass\n",
    "    \n",
    "    def set_camera_properity_height_width(self, height=640, width=480):\n",
    "        self.cap.set(cv.CAP_PROP_FRAME_HEIGHT, height)\n",
    "        self.cap.set(cv.CAP_PROP_FRAME_WIDTH, width)\n",
    "        print(\"set done height={0}, width={1}\".format(height, width))\n",
    "\n",
    "    def start_camera(self):\n",
    "        if not self.cap.isOpened():\n",
    "            print(\"Cannot open camera\")\n",
    "            self.cap_open_flag = False\n",
    "            return self.cap_open_flag\n",
    "\n",
    "        self.cap_open_flag = True\n",
    "        return self.cap_open_flag\n",
    "\n",
    "    def get_frame(self, enable_line=\"\", line_num=3):\n",
    "        ret, frame = self.cap.read()\n",
    "        if not ret:\n",
    "            print(\"..error_1...frame not grabbed\")\n",
    "            return\n",
    "        \n",
    "        height, width = frame.shape[:2]\n",
    "        frame_left = frame[:, :int(width/2)]\n",
    "        frame_right = frame[:, int(width/2):]\n",
    "\n",
    "        if enable_line == \"true\":\n",
    "            # enable_line = True\n",
    "            \n",
    "            fame = self.draw_line(frame, line_num)\n",
    "            fame_left = self.draw_line(frame_left, line_num)\n",
    "            fame_right = self.draw_line(frame_right, line_num)\n",
    "        \n",
    "        return frame, frame_left, frame_right\n",
    "\n",
    "    def draw_line(self, input_frame, line_num):\n",
    "        height, width = input_frame.shape[:2]\n",
    "        \n",
    "        interval = int(height/line_num)\n",
    "        height_accumulate = 0\n",
    "        for i in range(line_num):\n",
    "            if height_accumulate == height:\n",
    "                break\n",
    "            \n",
    "            height_accumulate += interval\n",
    "            input_frame = cv.line(input_frame, (0, height_accumulate), (width, height_accumulate), (0, 0, 255), 2)\n",
    "        \n",
    "        return input_frame\n",
    "\n",
    "\n",
    "    def close_camera(self):\n",
    "        self.cap.release()\n",
    "        self.cap_open_flag = False\n",
    "        cv.destroyAllWindows()\n",
    "\n",
    "\n",
    "if __name__ == \"__main__\":\n",
    "    import cv2 as cv\n",
    "\n",
    "    ic = IntegratedCamera()\n",
    "\n",
    "    while ic.start_camera():\n",
    "        frame, frame_left, frame_right = ic.get_frame(\"true\", 3)\n",
    "        cv.imshow(\"frame\", frame)\n",
    "        cv.imshow(\"frame_left\", frame_left)\n",
    "        cv.imshow(\"frame_right\", frame_right)\n",
    "    \n",
    "    ic.close_camera()\n",
    "\n",
    "\n",
    "    \n"
   ]
  },
  {
   "cell_type": "code",
   "execution_count": 5,
   "metadata": {},
   "outputs": [
    {
     "output_type": "stream",
     "name": "stdout",
     "text": "..error...donnot enter 5\n"
    }
   ],
   "source": [
    "def print_error(input):\n",
    "    if input == 5:\n",
    "        print(\"..error...donnot enter 5\")\n",
    "        return \n",
    "\n",
    "print_error(5)"
   ]
  },
  {
   "cell_type": "code",
   "execution_count": 1,
   "metadata": {},
   "outputs": [
    {
     "output_type": "stream",
     "name": "stdout",
     "text": "True\n"
    }
   ],
   "source": [
    "print(not 0)"
   ]
  },
  {
   "cell_type": "code",
   "execution_count": 2,
   "metadata": {},
   "outputs": [],
   "source": [
    "import threading, multiprocessing\n",
    "\n",
    "def loop():\n",
    "    x = 0\n",
    "    while True:\n",
    "        x = x ^ 1\n",
    "\n",
    "for i in range(multiprocessing.cpu_count()):\n",
    "    t = threading.Thread(target=loop)\n",
    "    t.start()"
   ]
  },
  {
   "cell_type": "code",
   "execution_count": 6,
   "metadata": {},
   "outputs": [
    {
     "output_type": "stream",
     "name": "stdout",
     "text": "New job: Mid-level job\nNew job: Low-level job\nNew job: Important job\nProcessing job Important job\nProcessing job Mid-level job\nProcessing job Low-level job\n"
    }
   ],
   "source": [
    "from queue import PriorityQueue\n",
    "\n",
    "\n",
    "class Job(object):\n",
    "    def __init__(self, priority, description):\n",
    "        self.priority = priority\n",
    "        self.description = description\n",
    "        print('New job:', description)\n",
    "        return\n",
    "\n",
    "    def __lt__(self, other):  # python 富比较方法 __lt__ less than (<), __gt__ greater than (>)\n",
    "        return self.priority < other.priority\n",
    "\n",
    "q = PriorityQueue()\n",
    "\n",
    "q.put(Job(5, 'Mid-level job'))\n",
    "q.put(Job(10, 'Low-level job'))\n",
    "q.put(Job(1, 'Important job'))\n",
    "\n",
    "while not q.empty():\n",
    "    next_job = q.get()\n",
    "    print('Processing job', next_job.description)\n"
   ]
  },
  {
   "cell_type": "code",
   "execution_count": 9,
   "metadata": {},
   "outputs": [],
   "source": [
    "from queue import Queue\n",
    "from threading import Thread\n",
    "\n",
    "# 用来表示终止的特殊对象\n",
    "# _sentinel = object()\n",
    "lock = threading.Lock()\n",
    "\n",
    "\n",
    "# A thread that produces data\n",
    "def producer(out_q):\n",
    "    lock.acquire()\n",
    "    for i in range(10):\n",
    "        print(\"生产\")\n",
    "        out_q.put(i)\n",
    "    # out_q.put(_sentinel)\n",
    "    lock.release()\n",
    "\n",
    "\n",
    "# A thread that consumes data\n",
    "def consumer(in_q):\n",
    "    lock.acquire()\n",
    "    while True:\n",
    "        data = in_q.get()\n",
    "        # if data is _sentinel:\n",
    "        #     in_q.put(_sentinel)\n",
    "        #     break\n",
    "        # else:\n",
    "        #     print(\"消费\", data)\n",
    "        print(\"消费\", data)\n",
    "    lock.release()\n",
    "\n",
    "\n",
    "# Create the shared queue and launch both threads\n",
    "q = Queue()\n",
    "t1 = Thread(target=consumer, args=(q,))\n",
    "t2 = Thread(target=producer, args=(q,))\n",
    "t1.start()\n",
    "t2.start()\n"
   ]
  },
  {
   "cell_type": "code",
   "execution_count": 10,
   "metadata": {},
   "outputs": [
    {
     "output_type": "error",
     "ename": "KeyboardInterrupt",
     "evalue": "",
     "traceback": [
      "\u001b[1;31m---------------------------------------------------------------------------\u001b[0m",
      "\u001b[1;31mKeyboardInterrupt\u001b[0m                         Traceback (most recent call last)",
      "\u001b[1;32m<ipython-input-10-06b404a42600>\u001b[0m in \u001b[0;36m<module>\u001b[1;34m\u001b[0m\n\u001b[0;32m     28\u001b[0m \u001b[1;33m\u001b[0m\u001b[0m\n\u001b[0;32m     29\u001b[0m \u001b[1;32mif\u001b[0m \u001b[0m__name__\u001b[0m \u001b[1;33m==\u001b[0m \u001b[1;34m'__main__'\u001b[0m\u001b[1;33m:\u001b[0m\u001b[1;33m\u001b[0m\u001b[1;33m\u001b[0m\u001b[0m\n\u001b[1;32m---> 30\u001b[1;33m     \u001b[0mvideo_stream_widget\u001b[0m \u001b[1;33m=\u001b[0m \u001b[0mVideoStreamWidget\u001b[0m\u001b[1;33m(\u001b[0m\u001b[1;33m)\u001b[0m\u001b[1;33m\u001b[0m\u001b[1;33m\u001b[0m\u001b[0m\n\u001b[0m\u001b[0;32m     31\u001b[0m     \u001b[1;32mwhile\u001b[0m \u001b[1;32mTrue\u001b[0m\u001b[1;33m:\u001b[0m\u001b[1;33m\u001b[0m\u001b[1;33m\u001b[0m\u001b[0m\n\u001b[0;32m     32\u001b[0m         \u001b[1;32mtry\u001b[0m\u001b[1;33m:\u001b[0m\u001b[1;33m\u001b[0m\u001b[1;33m\u001b[0m\u001b[0m\n",
      "\u001b[1;32m<ipython-input-10-06b404a42600>\u001b[0m in \u001b[0;36m__init__\u001b[1;34m(self, src)\u001b[0m\n\u001b[0;32m      5\u001b[0m \u001b[1;32mclass\u001b[0m \u001b[0mVideoStreamWidget\u001b[0m\u001b[1;33m(\u001b[0m\u001b[0mobject\u001b[0m\u001b[1;33m)\u001b[0m\u001b[1;33m:\u001b[0m\u001b[1;33m\u001b[0m\u001b[1;33m\u001b[0m\u001b[0m\n\u001b[0;32m      6\u001b[0m     \u001b[1;32mdef\u001b[0m \u001b[0m__init__\u001b[0m\u001b[1;33m(\u001b[0m\u001b[0mself\u001b[0m\u001b[1;33m,\u001b[0m \u001b[0msrc\u001b[0m\u001b[1;33m=\u001b[0m\u001b[1;36m0\u001b[0m\u001b[1;33m)\u001b[0m\u001b[1;33m:\u001b[0m\u001b[1;33m\u001b[0m\u001b[1;33m\u001b[0m\u001b[0m\n\u001b[1;32m----> 7\u001b[1;33m         \u001b[0mself\u001b[0m\u001b[1;33m.\u001b[0m\u001b[0mcapture\u001b[0m \u001b[1;33m=\u001b[0m \u001b[0mcv2\u001b[0m\u001b[1;33m.\u001b[0m\u001b[0mVideoCapture\u001b[0m\u001b[1;33m(\u001b[0m\u001b[0msrc\u001b[0m\u001b[1;33m)\u001b[0m\u001b[1;33m\u001b[0m\u001b[1;33m\u001b[0m\u001b[0m\n\u001b[0m\u001b[0;32m      8\u001b[0m         \u001b[1;31m# Start the thread to read frames from the video stream\u001b[0m\u001b[1;33m\u001b[0m\u001b[1;33m\u001b[0m\u001b[1;33m\u001b[0m\u001b[0m\n\u001b[0;32m      9\u001b[0m         \u001b[0mself\u001b[0m\u001b[1;33m.\u001b[0m\u001b[0mthread\u001b[0m \u001b[1;33m=\u001b[0m \u001b[0mThread\u001b[0m\u001b[1;33m(\u001b[0m\u001b[0mtarget\u001b[0m\u001b[1;33m=\u001b[0m\u001b[0mself\u001b[0m\u001b[1;33m.\u001b[0m\u001b[0mupdate\u001b[0m\u001b[1;33m,\u001b[0m \u001b[0margs\u001b[0m\u001b[1;33m=\u001b[0m\u001b[1;33m(\u001b[0m\u001b[1;33m)\u001b[0m\u001b[1;33m)\u001b[0m\u001b[1;33m\u001b[0m\u001b[1;33m\u001b[0m\u001b[0m\n",
      "\u001b[1;31mKeyboardInterrupt\u001b[0m: "
     ]
    }
   ],
   "source": [
    "from threading import Thread\n",
    "import cv2, time\n",
    "import sys\n",
    "\n",
    "class VideoStreamWidget(object):\n",
    "    def __init__(self, src=0):\n",
    "        self.capture = cv2.VideoCapture(src)\n",
    "        # Start the thread to read frames from the video stream\n",
    "        self.thread = Thread(target=self.update, args=())\n",
    "        self.thread.daemon = True\n",
    "        self.thread.start()\n",
    "\n",
    "    def update(self):\n",
    "        # Read the next frame from the stream in a different thread\n",
    "        while True:\n",
    "            if self.capture.isOpened():\n",
    "                (self.status, self.frame) = self.capture.read()\n",
    "            time.sleep(.01)\n",
    "\n",
    "    def show_frame(self):\n",
    "        # Display frames in main program\n",
    "        cv2.imshow('frame', self.frame)\n",
    "        key = cv2.waitKey(1)\n",
    "        if key == ord('q'):\n",
    "            self.capture.release()\n",
    "            cv2.destroyAllWindows()\n",
    "            sys.exit()\n",
    "\n",
    "if __name__ == '__main__':\n",
    "    video_stream_widget = VideoStreamWidget()\n",
    "    while True:\n",
    "        try:\n",
    "            video_stream_widget.show_frame()\n",
    "        except AttributeError:\n",
    "            pass"
   ]
  },
  {
   "cell_type": "code",
   "execution_count": 13,
   "metadata": {},
   "outputs": [
    {
     "output_type": "stream",
     "name": "stdout",
     "text": "33\n33\n"
    }
   ],
   "source": [
    "print(int((1/30)*1000))\n",
    "print(int(1000/30))"
   ]
  },
  {
   "cell_type": "code",
   "execution_count": null,
   "metadata": {},
   "outputs": [],
   "source": []
  }
 ],
 "metadata": {
  "language_info": {
   "codemirror_mode": {
    "name": "ipython",
    "version": 3
   },
   "file_extension": ".py",
   "mimetype": "text/x-python",
   "name": "python",
   "nbconvert_exporter": "python",
   "pygments_lexer": "ipython3",
   "version": "3.6.10-final"
  },
  "orig_nbformat": 2,
  "kernelspec": {
   "name": "python361064bitface36conda3078ec4d5254417d97c689ac856f794b",
   "display_name": "Python 3.6.10 64-bit ('face36': conda)"
  }
 },
 "nbformat": 4,
 "nbformat_minor": 2
}